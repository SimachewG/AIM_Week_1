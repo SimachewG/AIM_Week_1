{
 "cells": [
  {
   "cell_type": "code",
   "execution_count": 1,
   "metadata": {},
   "outputs": [],
   "source": [
    "import pandas as pd\n",
    "from textblob import TextBlob\n",
    "from sklearn.feature_extraction.text import TfidfVectorizer\n",
    "from sklearn.decomposition import LatentDirichletAllocation\n",
    "from nltk.sentiment.vader import SentimentIntensityAnalyzer\n",
    "import nltk"
   ]
  },
  {
   "cell_type": "code",
   "execution_count": 2,
   "metadata": {},
   "outputs": [
    {
     "name": "stderr",
     "output_type": "stream",
     "text": [
      "[nltk_data] Downloading package vader_lexicon to\n",
      "[nltk_data]     C:\\Users\\smith\\AppData\\Roaming\\nltk_data...\n",
      "[nltk_data]   Package vader_lexicon is already up-to-date!\n"
     ]
    }
   ],
   "source": [
    "# Download necessary NLTK data files\n",
    "nltk.download('vader_lexicon')\n",
    "\n",
    "# Load dataset\n",
    "file_path = '../data/raw_analyst_ratings.csv'  \n",
    "df = pd.read_csv(file_path)"
   ]
  },
  {
   "cell_type": "code",
   "execution_count": 7,
   "metadata": {},
   "outputs": [],
   "source": [
    "# Initialize the VADER sentiment analyzer\n",
    "vader_analyzer = SentimentIntensityAnalyzer()\n",
    "\n",
    "# --- Example DataFrame (replace with your actual data) ---\n",
    "# df = pd.read_csv('your_news_data.csv')  # Uncomment and load your data\n",
    "# Ensure 'headline' column exists in your dataframe\n",
    "\n",
    "# --- Sentiment Analysis Functions ---\n",
    "def get_vader_sentiment(text):\n",
    "    \"\"\"Compute compound sentiment score using VADER.\"\"\"\n",
    "    return vader_analyzer.polarity_scores(str(text))['compound']\n",
    "\n",
    "def get_textblob_sentiment(text):\n",
    "    \"\"\"Compute polarity sentiment score using TextBlob.\"\"\"\n",
    "    return TextBlob(str(text)).sentiment.polarity\n",
    "\n",
    "def classify_sentiment(score):\n",
    "    \"\"\"Classify sentiment as positive, negative, or neutral based on score.\"\"\"\n",
    "    if score > 0.1:\n",
    "        return 'positive'\n",
    "    elif score < -0.1:\n",
    "        return 'negative'\n",
    "    else:\n",
    "        return 'neutral'\n",
    "\n",
    "# --- Apply Sentiment Analysis ---\n",
    "df['vader_sentiment'] = df['headline'].apply(get_vader_sentiment)\n",
    "df['textblob_sentiment'] = df['headline'].apply(get_textblob_sentiment)\n",
    "\n",
    "df['vader_sentiment_class'] = df['vader_sentiment'].apply(classify_sentiment)\n",
    "df['textblob_sentiment_class'] = df['textblob_sentiment'].apply(classify_sentiment)\n",
    "\n",
    "# --- Topic Modeling with LDA ---\n",
    "vectorizer = TfidfVectorizer(stop_words='english')\n",
    "X = vectorizer.fit_transform(df['headline'])\n",
    "\n",
    "num_topics = 5\n",
    "lda = LatentDirichletAllocation(n_components=num_topics, random_state=42)\n",
    "lda.fit(X)\n",
    "\n",
    "feature_names = vectorizer.get_feature_names_out()\n",
    "topics = {\n",
    "    f\"Topic {i+1}\": [feature_names[idx] for idx in topic.argsort()[-10:]]\n",
    "    for i, topic in enumerate(lda.components_)\n",
    "}\n",
    "\n",
    "# --- Display Results ---\n",
    "print(\"Sentiment Analysis Preview:\")\n",
    "print(df[['headline', 'vader_sentiment', 'textblob_sentiment',\n",
    "          'vader_sentiment_class', 'textblob_sentiment_class']].head())\n",
    "\n",
    "print(\"\\nIdentified Topics:\")\n",
    "for topic, words in topics.items():\n",
    "    print(f\"{topic}: {', '.join(words)}\")\n"
   ]
  },
  {
   "cell_type": "code",
   "execution_count": null,
   "metadata": {},
   "outputs": [],
   "source": [
    "import matplotlib.pyplot as plt\n",
    "import seaborn as sns\n",
    "\n",
    "# --- Sentiment Class Distribution ---\n",
    "fig, axes = plt.subplots(1, 2, figsize=(16, 6))\n",
    "\n",
    "sns.countplot(ax=axes[0], x='vader_sentiment_class', data=df, palette='viridis')\n",
    "axes[0].set_title('Sentiment Distribution (VADER)')\n",
    "axes[0].set_xlabel('Sentiment Class')\n",
    "axes[0].set_ylabel('Number of Headlines')\n",
    "\n",
    "sns.countplot(ax=axes[1], x='textblob_sentiment_class', data=df, palette='viridis')\n",
    "axes[1].set_title('Sentiment Distribution (TextBlob)')\n",
    "axes[1].set_xlabel('Sentiment Class')\n",
    "axes[1].set_ylabel('Number of Headlines')\n",
    "\n",
    "plt.tight_layout()\n",
    "plt.show()\n",
    "\n",
    "# --- Sentiment Score Histograms ---\n",
    "fig, axes = plt.subplots(1, 2, figsize=(16, 6))\n",
    "\n",
    "sns.histplot(df['vader_sentiment'], bins=50, color='blue', kde=True, ax=axes[0])\n",
    "axes[0].set_title('VADER Sentiment Scores Distribution')\n",
    "axes[0].set_xlabel('VADER Sentiment Score')\n",
    "axes[0].set_ylabel('Frequency')\n",
    "\n",
    "sns.histplot(df['textblob_sentiment'], bins=50, color='green', kde=True, ax=axes[1])\n",
    "axes[1].set_title('TextBlob Sentiment Scores Distribution')\n",
    "axes[1].set_xlabel('TextBlob Sentiment Score')\n",
    "axes[1].set_ylabel('Frequency')\n",
    "\n",
    "plt.tight_layout()\n",
    "plt.show()\n"
   ]
  },
  {
   "cell_type": "code",
   "execution_count": null,
   "metadata": {},
   "outputs": [],
   "source": []
  }
 ],
 "metadata": {
  "kernelspec": {
   "display_name": ".venv",
   "language": "python",
   "name": "python3"
  },
  "language_info": {
   "codemirror_mode": {
    "name": "ipython",
    "version": 3
   },
   "file_extension": ".py",
   "mimetype": "text/x-python",
   "name": "python",
   "nbconvert_exporter": "python",
   "pygments_lexer": "ipython3",
   "version": "3.13.3"
  }
 },
 "nbformat": 4,
 "nbformat_minor": 2
}
